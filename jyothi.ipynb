{
  "nbformat": 4,
  "nbformat_minor": 0,
  "metadata": {
    "colab": {
      "provenance": [],
      "authorship_tag": "ABX9TyNhEUr4VukBhaJf0aDsh1KU",
      "include_colab_link": true
    },
    "kernelspec": {
      "name": "python3",
      "display_name": "Python 3"
    },
    "language_info": {
      "name": "python"
    }
  },
  "cells": [
    {
      "cell_type": "markdown",
      "metadata": {
        "id": "view-in-github",
        "colab_type": "text"
      },
      "source": [
        "<a href=\"https://colab.research.google.com/github/Arunjyothisingareddy/Weather-CLI-app-using-OpenWeather-API/blob/main/jyothi.ipynb\" target=\"_parent\"><img src=\"https://colab.research.google.com/assets/colab-badge.svg\" alt=\"Open In Colab\"/></a>"
      ]
    },
    {
      "cell_type": "code",
      "execution_count": null,
      "metadata": {
        "colab": {
          "base_uri": "https://localhost:8080/"
        },
        "id": "Z-GtP_K9JHVb",
        "outputId": "6d45f9e5-47d5-437b-ac8d-4c852d53c6c2"
      },
      "outputs": [
        {
          "output_type": "stream",
          "name": "stdout",
          "text": [
            "Enter city name: hyderabad\n",
            "\n",
            "📍 Weather in Hyderabad\n",
            "Temperature: 24.11°C\n",
            "Humidity: 80%\n",
            "Condition: Overcast Clouds\n",
            "\n",
            "Do you want to save the result? (yes/no): yes\n",
            "Choose file format - 'txt' or 'csv': csv\n",
            "✅ Data saved to weather_report.csv\n"
          ]
        }
      ],
      "source": [
        "import requests\n",
        "import csv\n",
        "\n",
        "BASE_URL = \"http://api.openweathermap.org/data/2.5/weather?\"\n",
        "\n",
        "def get_weather_data(city):\n",
        "    params = {\n",
        "        'q': city,\n",
        "        'appid':'d8b74a80f1918294c8cc60ac92778905',\n",
        "        'units': 'metric'\n",
        "    }\n",
        "    try:\n",
        "        response = requests.get(BASE_URL, params=params)\n",
        "        data = response.json()\n",
        "\n",
        "        if response.status_code == 200 and data.get(\"cod\") == 200:\n",
        "            return data\n",
        "        else:\n",
        "            print(f\"❌ API error: {data.get('message', 'Unknown error')}\")\n",
        "            return None\n",
        "    except Exception as e:\n",
        "        print(f\"❌ Exception occurred: {e}\")\n",
        "        return None\n",
        "\n",
        "def format_weather_data(data):\n",
        "    city = data['name']\n",
        "    temp = data['main']['temp']\n",
        "    humidity = data['main']['humidity']\n",
        "    condition = data['weather'][0]['description'].title()\n",
        "\n",
        "    output = (\n",
        "        f\"📍 Weather in {city}\\n\"\n",
        "        f\"Temperature: {temp}°C\\n\"\n",
        "        f\"Humidity: {humidity}%\\n\"\n",
        "        f\"Condition: {condition}\"\n",
        "    )\n",
        "    return output, city, temp, humidity, condition\n",
        "\n",
        "def save_to_file(city, temp, humidity, condition, file_type):\n",
        "    if file_type == \"txt\":\n",
        "        with open(\"weather_report.txt\", \"w\") as f:\n",
        "            f.write(f\"Weather in {city}\\n\")\n",
        "            f.write(f\"Temperature: {temp}°C\\n\")\n",
        "            f.write(f\"Humidity: {humidity}%\\n\")\n",
        "            f.write(f\"Condition: {condition}\\n\")\n",
        "        print(\"✅ Data saved to weather_report.txt\")\n",
        "    elif file_type == \"csv\":\n",
        "        with open(\"weather_report.csv\", \"w\", newline='') as f:\n",
        "            writer = csv.writer(f)\n",
        "            writer.writerow([\"City\", \"Temperature(°C)\", \"Humidity(%)\", \"Condition\"])\n",
        "            writer.writerow([city, temp, humidity, condition])\n",
        "        print(\"✅ Data saved to weather_report.csv\")\n",
        "\n",
        "def main():\n",
        "    city = input(\"Enter city name: \").strip()\n",
        "    data = get_weather_data(city)\n",
        "\n",
        "    if data:\n",
        "        output, city, temp, humidity, condition = format_weather_data(data)\n",
        "        print(\"\\n\" + output)\n",
        "\n",
        "        save = input(\"\\nDo you want to save the result? (yes/no): \").lower()\n",
        "        if save in ['yes', 'y']:\n",
        "            file_type = input(\"Choose file format - 'txt' or 'csv': \").lower()\n",
        "            if file_type in ['txt', 'csv']:\n",
        "                save_to_file(city, temp, humidity, condition, file_type)\n",
        "            else:\n",
        "                print(\"❌ Invalid file format. Skipping save.\")\n",
        "    else:\n",
        "        print(\"❌ City not found or API error occurred.\")\n",
        "\n",
        "if __name__ == \"__main__\":\n",
        "    main()"
      ]
    }
  ]
}